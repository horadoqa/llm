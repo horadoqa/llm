{
 "cells": [
  {
   "cell_type": "code",
   "execution_count": null,
   "metadata": {
    "vscode": {
     "languageId": "plaintext"
    }
   },
   "outputs": [],
   "source": [
    "# Criam uma conta em https://huggingface.co/ e gerar o token\n",
    "\n",
    "# Criando uma variável de ambiente\n",
    "# export HF_HOME=\"seu_token_aqui\"\n",
    "\n",
    "from transformers import pipeline\n",
    "from huggingface_hub import login\n",
    "\n",
    "# Faça login com o token da Hugging Face\n",
    "login(\"SEU_TOKEN_AQUI\")\n",
    "login($HF_HOME)\n",
    "\n",
    "# Carrega o pipeline para geração de texto com o modelo GPT-2 treinado em português\n",
    "modelo = pipeline('text-generation', model='neuralmind/gpt2-portuguese')\n",
    "\n",
    "# Gera o texto com base no prompt fornecido\n",
    "resultado = modelo('Hoje o dia está', max_length=50)\n",
    "\n",
    "# Exibe o resultado gerado\n",
    "print(resultado[0]['generated_text'])\n",
    "\n"
   ]
  },
  {
   "cell_type": "code",
   "execution_count": null,
   "metadata": {
    "vscode": {
     "languageId": "plaintext"
    }
   },
   "outputs": [],
   "source": [
    "from transformers import pipeline\n",
    "\n",
    "# Carrega o pipeline para geração de texto com o modelo GPT-2 treinado em português\n",
    "modelo = pipeline('text-generation', model='pierreguillou/gpt2-small-portuguese')\n",
    "\n",
    "# Gera o texto com base no prompt fornecido\n",
    "resultado = modelo('Hoje o dia está', max_length=50)\n",
    "\n",
    "# Exibe o resultado gerado\n",
    "print(resultado[0]['generated_text'])\n",
    "\n"
   ]
  }
 ],
 "metadata": {
  "language_info": {
   "name": "python"
  }
 },
 "nbformat": 4,
 "nbformat_minor": 2
}
